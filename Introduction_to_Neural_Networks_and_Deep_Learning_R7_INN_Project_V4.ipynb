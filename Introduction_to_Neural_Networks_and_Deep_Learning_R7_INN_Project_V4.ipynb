{
  "nbformat": 4,
  "nbformat_minor": 0,
  "metadata": {
    "colab": {
      "name": "Introduction to Neural Networks and Deep Learning_R7_INN_Project_V3.ipynb",
      "provenance": [],
      "collapsed_sections": []
    },
    "kernelspec": {
      "display_name": "Python 3",
      "name": "python3"
    },
    "accelerator": "TPU"
  },
  "cells": [
    {
      "cell_type": "markdown",
      "metadata": {
        "id": "uwr_QIYuKLDP"
      },
      "source": [
        "# Dataset\n",
        "SVHN is a real-world image dataset for developing machine learning and object recognition algorithms with the\n",
        "minimal requirement on data formatting but comes from a significantly harder, unsolved, real-world problem\n",
        "(recognizing digits and numbers in natural scene images). SVHN is obtained from house numbers in Google\n",
        "Street View images."
      ]
    },
    {
      "cell_type": "markdown",
      "metadata": {
        "id": "KV6haQGCKhoY"
      },
      "source": [
        "# Acknowledgement\n",
        "Yuval Netzer, Tao Wang, Adam Coates, Alessandro Bissacco, Bo Wu, Andrew Y. Ng Reading Digits in Natural\n",
        "Images with Unsupervised Feature Learning NIPS Workshop on Deep Learning and Unsupervised Feature\n",
        "Learning 2011. PDF\n",
        "http://ufldl.stanford.edu/housenumbers as the URL for this site when necessary"
      ]
    },
    {
      "cell_type": "markdown",
      "metadata": {
        "id": "tOiMH3PlZJNI"
      },
      "source": [
        "#Load necessary libraries"
      ]
    },
    {
      "cell_type": "code",
      "metadata": {
        "id": "G5B2evwjY0jN"
      },
      "source": [
        "import tensorflow as tf\n",
        "import h5py\n",
        "import numpy as np\n",
        "import matplotlib.pyplot as plt\n"
      ],
      "execution_count": 68,
      "outputs": []
    },
    {
      "cell_type": "markdown",
      "metadata": {
        "id": "T5CqQoDik3Bu"
      },
      "source": [
        "# Read h5 file"
      ]
    },
    {
      "cell_type": "code",
      "metadata": {
        "id": "PlKNicHra5oV"
      },
      "source": [
        "data = h5py.File('/content/drive/MyDrive/glearn/INN-DL/SVHN_single_grey1.h5','r')"
      ],
      "execution_count": 69,
      "outputs": []
    },
    {
      "cell_type": "code",
      "metadata": {
        "id": "z7OkJ5vEeu4X",
        "outputId": "0d17de31-43fe-43e3-a0b7-f1a536c37baa",
        "colab": {
          "base_uri": "https://localhost:8080/"
        }
      },
      "source": [
        "data.keys()"
      ],
      "execution_count": 70,
      "outputs": [
        {
          "output_type": "execute_result",
          "data": {
            "text/plain": [
              "<KeysViewHDF5 ['X_test', 'X_train', 'X_val', 'y_test', 'y_train', 'y_val']>"
            ]
          },
          "metadata": {
            "tags": []
          },
          "execution_count": 70
        }
      ]
    },
    {
      "cell_type": "markdown",
      "metadata": {
        "id": "qwC50Q4bk8sF"
      },
      "source": [
        "# Form train, test and validation splits"
      ]
    },
    {
      "cell_type": "code",
      "metadata": {
        "id": "O2Uy11uBfJSh"
      },
      "source": [
        "X_train = data['X_train'][:]\n",
        "y_train = data['y_train'][:]\n",
        "\n",
        "X_val = data['X_val'][:]\n",
        "y_val = data['y_val'][:]\n",
        "\n",
        "X_test = data['X_test'][:]\n",
        "y_test = data['y_test'][:]"
      ],
      "execution_count": 71,
      "outputs": []
    },
    {
      "cell_type": "code",
      "metadata": {
        "id": "8622vIdhhfY5",
        "outputId": "c8a2ffdd-e731-4884-d526-4d6496055ded",
        "colab": {
          "base_uri": "https://localhost:8080/"
        }
      },
      "source": [
        "print(X_train.shape)\n",
        "print(y_train.shape)\n",
        "print(X_test.shape)\n",
        "print(y_test.shape)\n",
        "print(X_val.shape)\n",
        "print(y_val.shape)"
      ],
      "execution_count": 72,
      "outputs": [
        {
          "output_type": "stream",
          "text": [
            "(42000, 32, 32)\n",
            "(42000,)\n",
            "(18000, 32, 32)\n",
            "(18000,)\n",
            "(60000, 32, 32)\n",
            "(60000,)\n"
          ],
          "name": "stdout"
        }
      ]
    },
    {
      "cell_type": "markdown",
      "metadata": {
        "id": "CgVi3GSli3v3"
      },
      "source": [
        "There are 42,000 training images and 18000 each in validation and test sets. "
      ]
    },
    {
      "cell_type": "code",
      "metadata": {
        "id": "UdyDxDi2iITU",
        "outputId": "226f4726-e27d-4160-ef2a-b1fc987115e2",
        "colab": {
          "base_uri": "https://localhost:8080/",
          "height": 283
        }
      },
      "source": [
        "plt.imshow(X_train[2])"
      ],
      "execution_count": 73,
      "outputs": [
        {
          "output_type": "execute_result",
          "data": {
            "text/plain": [
              "<matplotlib.image.AxesImage at 0x7f07b47b27b8>"
            ]
          },
          "metadata": {
            "tags": []
          },
          "execution_count": 73
        },
        {
          "output_type": "display_data",
          "data": {
            "image/png": "[encoded data removed]",
            "text/plain": [
              "<Figure size 432x288 with 1 Axes>"
            ]
          },
          "metadata": {
            "tags": [],
            "needs_background": "light"
          }
        }
      ]
    },
    {
      "cell_type": "code",
      "metadata": {
        "id": "iEvUzvkhkbZa",
        "outputId": "760f3214-7e6e-49a5-f07b-f8e66a1f84fb",
        "colab": {
          "base_uri": "https://localhost:8080/",
          "height": 283
        }
      },
      "source": [
        "plt.imshow(X_test[10])"
      ],
      "execution_count": 74,
      "outputs": [
        {
          "output_type": "execute_result",
          "data": {
            "text/plain": [
              "<matplotlib.image.AxesImage at 0x7f07bb29db38>"
            ]
          },
          "metadata": {
            "tags": []
          },
          "execution_count": 74
        },
        {
          "output_type": "display_data",
          "data": {
            "image/png": "[encoded data removed]",
            "text/plain": [
              "<Figure size 432x288 with 1 Axes>"
            ]
          },
          "metadata": {
            "tags": [],
            "needs_background": "light"
          }
        }
      ]
    },
    {
      "cell_type": "markdown",
      "metadata": {
        "id": "zzG1cxYwkrcF"
      },
      "source": [
        "# Reshape and Normalize the data"
      ]
    },
    {
      "cell_type": "code",
      "metadata": {
        "id": "ZkEeWHxBkhkK"
      },
      "source": [
        "# reshape the data\n",
        "X_train = X_train.reshape(X_train.shape[0], 32, 32, 1)\n",
        "X_val = X_val.reshape(X_val.shape[0], 32, 32, 1) \n",
        "X_test = X_test.reshape(X_test.shape[0], 32, 32, 1) "
      ],
      "execution_count": 75,
      "outputs": []
    },
    {
      "cell_type": "code",
      "metadata": {
        "id": "a7f6M1-9loFY"
      },
      "source": [
        "# Normalizing the Data\n",
        "X_train = X_train.astype('float32')\n",
        "X_val = X_val.astype('float32')\n",
        "X_test = X_test.astype('float32')\n",
        "\n",
        "X_train /= 255\n",
        "X_test /= 255\n",
        "X_val /= 255"
      ],
      "execution_count": 76,
      "outputs": []
    },
    {
      "cell_type": "markdown",
      "metadata": {
        "id": "-ESzpob6l4d8"
      },
      "source": [
        "# One hot encode the labels for train, validation test sets "
      ]
    },
    {
      "cell_type": "code",
      "metadata": {
        "id": "qwwYl7vBmBO1"
      },
      "source": [
        "y_train = tf.keras.utils.to_categorical(y_train, num_classes=10)\n",
        "y_val = tf.keras.utils.to_categorical(y_val, num_classes=10)\n",
        "y_test = tf.keras.utils.to_categorical(y_test, num_classes=10)"
      ],
      "execution_count": 77,
      "outputs": []
    },
    {
      "cell_type": "code",
      "metadata": {
        "id": "CGfMZz8nmTgB",
        "outputId": "aad38a5f-860c-4096-def2-b2005fe060ee",
        "colab": {
          "base_uri": "https://localhost:8080/"
        }
      },
      "source": [
        "y_train[1], y_test[1], y_val[1]"
      ],
      "execution_count": 78,
      "outputs": [
        {
          "output_type": "execute_result",
          "data": {
            "text/plain": [
              "(array([0., 0., 0., 0., 0., 0., 1., 0., 0., 0.], dtype=float32),\n",
              " array([0., 0., 0., 0., 0., 0., 0., 1., 0., 0.], dtype=float32),\n",
              " array([1., 0., 0., 0., 0., 0., 0., 0., 0., 0.], dtype=float32))"
            ]
          },
          "metadata": {
            "tags": []
          },
          "execution_count": 78
        }
      ]
    },
    {
      "cell_type": "markdown",
      "metadata": {
        "id": "NsbBdBPinJdu"
      },
      "source": [
        "# Build the graph"
      ]
    },
    {
      "cell_type": "code",
      "metadata": {
        "id": "gCsDNDfFnyuV"
      },
      "source": [
        "tf.keras.backend.clear_session() # clear any previous sessions"
      ],
      "execution_count": 79,
      "outputs": []
    },
    {
      "cell_type": "code",
      "metadata": {
        "id": "5ko_xWlynAf3"
      },
      "source": [
        "#Initialize Sequential model\n",
        "model = tf.keras.models.Sequential()\n",
        "\n",
        "#Reshape data from 2D to 1D -> 32x32 to 1024\n",
        "model.add(tf.keras.layers.Reshape((1024,),input_shape=(32,32,)))\n",
        "\n",
        "#Normalize the data\n",
        "model.add(tf.keras.layers.BatchNormalization())\n",
        "\n",
        "#Add Dense Layer which provides 10 Outputs after applying softmax\n",
        "model.add(tf.keras.layers.Dense(600, activation='relu'))\n",
        "\n",
        "#Add dropout layer\n",
        "model.add(tf.keras.layers.Dropout(0.20))\n",
        "\n",
        "#Normalize the data\n",
        "model.add(tf.keras.layers.BatchNormalization())\n",
        "\n",
        "#Add Dense Layer which provides 10 Outputs after applying softmax\n",
        "model.add(tf.keras.layers.Dense(400, activation='relu'))\n",
        "\n",
        "#Add dropout layer\n",
        "model.add(tf.keras.layers.Dropout(0.10))\n",
        "\n",
        "#Normalize the data\n",
        "model.add(tf.keras.layers.BatchNormalization())\n",
        "\n",
        "#Add Dense Layer which provides 10 Outputs after applying softmax\n",
        "model.add(tf.keras.layers.Dense(200, activation='relu'))\n",
        "\n",
        "#Normalize the data\n",
        "model.add(tf.keras.layers.BatchNormalization())\n",
        "\n",
        "#Add Dense Layer which provides 10 Outputs after applying softmax\n",
        "model.add(tf.keras.layers.Dense(60, activation='relu'))\n",
        "\n",
        "#Normalize the data\n",
        "model.add(tf.keras.layers.BatchNormalization())\n",
        "\n",
        "model.add(tf.keras.layers.Dense(10, activation='softmax'))\n",
        "\n",
        "#Compile the model\n",
        "model.compile(optimizer='adam', loss='categorical_crossentropy', metrics=['accuracy'])\n",
        "\n"
      ],
      "execution_count": 80,
      "outputs": []
    },
    {
      "cell_type": "code",
      "metadata": {
        "id": "l2XYoIzhnNoO",
        "outputId": "41a2dd8a-2c96-44ec-c677-e2629605c260",
        "colab": {
          "base_uri": "https://localhost:8080/"
        }
      },
      "source": [
        "# Fitting model\n",
        "history = model.fit(x=X_train, y=y_train, batch_size=100, epochs=50, validation_data=(X_val, y_val))"
      ],
      "execution_count": 81,
      "outputs": [
        {
          "output_type": "stream",
          "text": [
            "Epoch 1/50\n",
            "420/420 [==============================] - 14s 34ms/step - loss: 1.5206 - accuracy: 0.4908 - val_loss: 0.9543 - val_accuracy: 0.6991\n",
            "Epoch 2/50\n",
            "420/420 [==============================] - 14s 33ms/step - loss: 0.9936 - accuracy: 0.6832 - val_loss: 0.7859 - val_accuracy: 0.7505\n",
            "Epoch 3/50\n",
            "420/420 [==============================] - 14s 34ms/step - loss: 0.8488 - accuracy: 0.7312 - val_loss: 0.6615 - val_accuracy: 0.7930\n",
            "Epoch 4/50\n",
            "420/420 [==============================] - 14s 34ms/step - loss: 0.7657 - accuracy: 0.7586 - val_loss: 0.6169 - val_accuracy: 0.8044\n",
            "Epoch 5/50\n",
            "420/420 [==============================] - 15s 35ms/step - loss: 0.7028 - accuracy: 0.7774 - val_loss: 0.5569 - val_accuracy: 0.8259\n",
            "Epoch 6/50\n",
            "420/420 [==============================] - 15s 36ms/step - loss: 0.6509 - accuracy: 0.7940 - val_loss: 0.5211 - val_accuracy: 0.8379\n",
            "Epoch 7/50\n",
            "420/420 [==============================] - 16s 38ms/step - loss: 0.6136 - accuracy: 0.8046 - val_loss: 0.5082 - val_accuracy: 0.8408\n",
            "Epoch 8/50\n",
            "420/420 [==============================] - 16s 37ms/step - loss: 0.5859 - accuracy: 0.8129 - val_loss: 0.4620 - val_accuracy: 0.8553\n",
            "Epoch 9/50\n",
            "420/420 [==============================] - 16s 37ms/step - loss: 0.5584 - accuracy: 0.8200 - val_loss: 0.4331 - val_accuracy: 0.8650\n",
            "Epoch 10/50\n",
            "420/420 [==============================] - 16s 38ms/step - loss: 0.5323 - accuracy: 0.8299 - val_loss: 0.4223 - val_accuracy: 0.8708\n",
            "Epoch 11/50\n",
            "420/420 [==============================] - 16s 38ms/step - loss: 0.5133 - accuracy: 0.8370 - val_loss: 0.3883 - val_accuracy: 0.8800\n",
            "Epoch 12/50\n",
            "420/420 [==============================] - 16s 38ms/step - loss: 0.4917 - accuracy: 0.8423 - val_loss: 0.3958 - val_accuracy: 0.8765\n",
            "Epoch 13/50\n",
            "420/420 [==============================] - 15s 37ms/step - loss: 0.4723 - accuracy: 0.8484 - val_loss: 0.3642 - val_accuracy: 0.8877\n",
            "Epoch 14/50\n",
            "420/420 [==============================] - 18s 43ms/step - loss: 0.4541 - accuracy: 0.8528 - val_loss: 0.3540 - val_accuracy: 0.8915\n",
            "Epoch 15/50\n",
            "420/420 [==============================] - 17s 39ms/step - loss: 0.4427 - accuracy: 0.8557 - val_loss: 0.3588 - val_accuracy: 0.8904\n",
            "Epoch 16/50\n",
            "420/420 [==============================] - 14s 33ms/step - loss: 0.4261 - accuracy: 0.8625 - val_loss: 0.3376 - val_accuracy: 0.8967\n",
            "Epoch 17/50\n",
            "420/420 [==============================] - 14s 33ms/step - loss: 0.4168 - accuracy: 0.8644 - val_loss: 0.3245 - val_accuracy: 0.9018\n",
            "Epoch 18/50\n",
            "420/420 [==============================] - 14s 33ms/step - loss: 0.4061 - accuracy: 0.8665 - val_loss: 0.3124 - val_accuracy: 0.9065\n",
            "Epoch 19/50\n",
            "420/420 [==============================] - 14s 33ms/step - loss: 0.3954 - accuracy: 0.8711 - val_loss: 0.3104 - val_accuracy: 0.9060\n",
            "Epoch 20/50\n",
            "420/420 [==============================] - 14s 33ms/step - loss: 0.3797 - accuracy: 0.8770 - val_loss: 0.2999 - val_accuracy: 0.9102\n",
            "Epoch 21/50\n",
            "420/420 [==============================] - 14s 33ms/step - loss: 0.3790 - accuracy: 0.8773 - val_loss: 0.2942 - val_accuracy: 0.9117\n",
            "Epoch 22/50\n",
            "420/420 [==============================] - 14s 32ms/step - loss: 0.3558 - accuracy: 0.8836 - val_loss: 0.3027 - val_accuracy: 0.9084\n",
            "Epoch 23/50\n",
            "420/420 [==============================] - 14s 32ms/step - loss: 0.3571 - accuracy: 0.8839 - val_loss: 0.2759 - val_accuracy: 0.9190\n",
            "Epoch 24/50\n",
            "420/420 [==============================] - 13s 32ms/step - loss: 0.3415 - accuracy: 0.8876 - val_loss: 0.2777 - val_accuracy: 0.9184\n",
            "Epoch 25/50\n",
            "420/420 [==============================] - 13s 32ms/step - loss: 0.3391 - accuracy: 0.8886 - val_loss: 0.2677 - val_accuracy: 0.9210\n",
            "Epoch 26/50\n",
            "420/420 [==============================] - 14s 33ms/step - loss: 0.3275 - accuracy: 0.8919 - val_loss: 0.2681 - val_accuracy: 0.9219\n",
            "Epoch 27/50\n",
            "420/420 [==============================] - 14s 33ms/step - loss: 0.3208 - accuracy: 0.8942 - val_loss: 0.2630 - val_accuracy: 0.9222\n",
            "Epoch 28/50\n",
            "420/420 [==============================] - 14s 33ms/step - loss: 0.3166 - accuracy: 0.8975 - val_loss: 0.2612 - val_accuracy: 0.9220\n",
            "Epoch 29/50\n",
            "420/420 [==============================] - 14s 33ms/step - loss: 0.3086 - accuracy: 0.8975 - val_loss: 0.2502 - val_accuracy: 0.9272\n",
            "Epoch 30/50\n",
            "420/420 [==============================] - 14s 32ms/step - loss: 0.2999 - accuracy: 0.9014 - val_loss: 0.2582 - val_accuracy: 0.9240\n",
            "Epoch 31/50\n",
            "420/420 [==============================] - 14s 33ms/step - loss: 0.2968 - accuracy: 0.9021 - val_loss: 0.2488 - val_accuracy: 0.9280\n",
            "Epoch 32/50\n",
            "420/420 [==============================] - 13s 31ms/step - loss: 0.2936 - accuracy: 0.9032 - val_loss: 0.2336 - val_accuracy: 0.9337\n",
            "Epoch 33/50\n",
            "420/420 [==============================] - 13s 31ms/step - loss: 0.2813 - accuracy: 0.9063 - val_loss: 0.2327 - val_accuracy: 0.9344\n",
            "Epoch 34/50\n",
            "420/420 [==============================] - 13s 31ms/step - loss: 0.2789 - accuracy: 0.9082 - val_loss: 0.2259 - val_accuracy: 0.9363\n",
            "Epoch 35/50\n",
            "420/420 [==============================] - 13s 31ms/step - loss: 0.2719 - accuracy: 0.9102 - val_loss: 0.2381 - val_accuracy: 0.9316\n",
            "Epoch 36/50\n",
            "420/420 [==============================] - 14s 32ms/step - loss: 0.2720 - accuracy: 0.9081 - val_loss: 0.2249 - val_accuracy: 0.9366\n",
            "Epoch 37/50\n",
            "420/420 [==============================] - 14s 32ms/step - loss: 0.2661 - accuracy: 0.9113 - val_loss: 0.2278 - val_accuracy: 0.9355\n",
            "Epoch 38/50\n",
            "420/420 [==============================] - 14s 34ms/step - loss: 0.2536 - accuracy: 0.9154 - val_loss: 0.2204 - val_accuracy: 0.9376\n",
            "Epoch 39/50\n",
            "420/420 [==============================] - 13s 32ms/step - loss: 0.2540 - accuracy: 0.9167 - val_loss: 0.2274 - val_accuracy: 0.9364\n",
            "Epoch 40/50\n",
            "420/420 [==============================] - 14s 32ms/step - loss: 0.2509 - accuracy: 0.9155 - val_loss: 0.2179 - val_accuracy: 0.9391\n",
            "Epoch 41/50\n",
            "420/420 [==============================] - 13s 32ms/step - loss: 0.2493 - accuracy: 0.9170 - val_loss: 0.2042 - val_accuracy: 0.9449\n",
            "Epoch 42/50\n",
            "420/420 [==============================] - 13s 32ms/step - loss: 0.2445 - accuracy: 0.9182 - val_loss: 0.2145 - val_accuracy: 0.9406\n",
            "Epoch 43/50\n",
            "420/420 [==============================] - 17s 39ms/step - loss: 0.2335 - accuracy: 0.9226 - val_loss: 0.2080 - val_accuracy: 0.9428\n",
            "Epoch 44/50\n",
            "420/420 [==============================] - 13s 32ms/step - loss: 0.2398 - accuracy: 0.9200 - val_loss: 0.2190 - val_accuracy: 0.9393\n",
            "Epoch 45/50\n",
            "420/420 [==============================] - 13s 32ms/step - loss: 0.2358 - accuracy: 0.9220 - val_loss: 0.2128 - val_accuracy: 0.9403\n",
            "Epoch 46/50\n",
            "420/420 [==============================] - 13s 32ms/step - loss: 0.2264 - accuracy: 0.9227 - val_loss: 0.2080 - val_accuracy: 0.9436\n",
            "Epoch 47/50\n",
            "420/420 [==============================] - 13s 32ms/step - loss: 0.2250 - accuracy: 0.9242 - val_loss: 0.2066 - val_accuracy: 0.9443\n",
            "Epoch 48/50\n",
            "420/420 [==============================] - 14s 33ms/step - loss: 0.2220 - accuracy: 0.9258 - val_loss: 0.2016 - val_accuracy: 0.9459\n",
            "Epoch 49/50\n",
            "420/420 [==============================] - 13s 32ms/step - loss: 0.2198 - accuracy: 0.9274 - val_loss: 0.2022 - val_accuracy: 0.9457\n",
            "Epoch 50/50\n",
            "420/420 [==============================] - 14s 33ms/step - loss: 0.2180 - accuracy: 0.9274 - val_loss: 0.1996 - val_accuracy: 0.9467\n"
          ],
          "name": "stdout"
        }
      ]
    },
    {
      "cell_type": "markdown",
      "metadata": {
        "id": "6GZwDStt3pvf"
      },
      "source": [
        "# Vizualizing accuracy and loss"
      ]
    },
    {
      "cell_type": "code",
      "metadata": {
        "id": "m4gdUsMHYu7P",
        "outputId": "f710b317-bd95-40a4-d103-a22386034556",
        "colab": {
          "base_uri": "https://localhost:8080/",
          "height": 573
        }
      },
      "source": [
        "# summarize history for accuracy\n",
        "plt.plot(history.history['accuracy'])\n",
        "plt.plot(history.history['val_accuracy'])\n",
        "plt.title('model accuracy')\n",
        "plt.ylabel('accuracy')\n",
        "plt.xlabel('epoch')\n",
        "plt.legend(['train', 'test'], loc='upper left')\n",
        "plt.show()\n",
        "# summarize history for loss\n",
        "plt.plot(history.history['loss'])\n",
        "plt.plot(history.history['val_loss'])\n",
        "plt.title('model loss')\n",
        "plt.ylabel('loss')\n",
        "plt.xlabel('epoch')\n",
        "plt.legend(['train', 'test'], loc='upper left')\n",
        "plt.show()"
      ],
      "execution_count": 82,
      "outputs": [
        {
          "output_type": "display_data",
          "data": {
            "image/png": "[encoded data removed]",
            "text/plain": [
              "<Figure size 432x288 with 1 Axes>"
            ]
          },
          "metadata": {
            "tags": [],
            "needs_background": "light"
          }
        },
        {
          "output_type": "display_data",
          "data": {
            "image/png": "[encoded data removed]",
            "text/plain": [
              "<Figure size 432x288 with 1 Axes>"
            ]
          },
          "metadata": {
            "tags": [],
            "needs_background": "light"
          }
        }
      ]
    },
    {
      "cell_type": "code",
      "metadata": {
        "id": "Qa4UC6zM1Sar",
        "outputId": "57163bc8-3cf2-4979-cd77-c35556489034",
        "colab": {
          "base_uri": "https://localhost:8080/"
        }
      },
      "source": [
        "model.summary()"
      ],
      "execution_count": 83,
      "outputs": [
        {
          "output_type": "stream",
          "text": [
            "Model: \"sequential\"\n",
            "_________________________________________________________________\n",
            "Layer (type)                 Output Shape              Param #   \n",
            "=================================================================\n",
            "reshape (Reshape)            (None, 1024)              0         \n",
            "_________________________________________________________________\n",
            "batch_normalization (BatchNo (None, 1024)              4096      \n",
            "_________________________________________________________________\n",
            "dense (Dense)                (None, 600)               615000    \n",
            "_________________________________________________________________\n",
            "dropout (Dropout)            (None, 600)               0         \n",
            "_________________________________________________________________\n",
            "batch_normalization_1 (Batch (None, 600)               2400      \n",
            "_________________________________________________________________\n",
            "dense_1 (Dense)              (None, 400)               240400    \n",
            "_________________________________________________________________\n",
            "dropout_1 (Dropout)          (None, 400)               0         \n",
            "_________________________________________________________________\n",
            "batch_normalization_2 (Batch (None, 400)               1600      \n",
            "_________________________________________________________________\n",
            "dense_2 (Dense)              (None, 200)               80200     \n",
            "_________________________________________________________________\n",
            "batch_normalization_3 (Batch (None, 200)               800       \n",
            "_________________________________________________________________\n",
            "dense_3 (Dense)              (None, 60)                12060     \n",
            "_________________________________________________________________\n",
            "batch_normalization_4 (Batch (None, 60)                240       \n",
            "_________________________________________________________________\n",
            "dense_4 (Dense)              (None, 10)                610       \n",
            "=================================================================\n",
            "Total params: 957,406\n",
            "Trainable params: 952,838\n",
            "Non-trainable params: 4,568\n",
            "_________________________________________________________________\n"
          ],
          "name": "stdout"
        }
      ]
    },
    {
      "cell_type": "markdown",
      "metadata": {
        "id": "R8adjzov3w7f"
      },
      "source": [
        "# Save the model"
      ]
    },
    {
      "cell_type": "code",
      "metadata": {
        "id": "M4flDpaQ2O6T"
      },
      "source": [
        "model.save('svhn_v2.h5')"
      ],
      "execution_count": 84,
      "outputs": []
    },
    {
      "cell_type": "markdown",
      "metadata": {
        "id": "GJ7c_rcI4AQ2"
      },
      "source": [
        "# Evaluate the model"
      ]
    },
    {
      "cell_type": "code",
      "metadata": {
        "id": "00SNZ4ZLCRZw",
        "outputId": "4d1d0f49-35ff-40f7-ded5-45f67c662f50",
        "colab": {
          "base_uri": "https://localhost:8080/"
        }
      },
      "source": [
        "#Evaluating model on test data\n",
        "model.evaluate(X_val,y_val)"
      ],
      "execution_count": 85,
      "outputs": [
        {
          "output_type": "stream",
          "text": [
            "1875/1875 [==============================] - 8s 4ms/step - loss: 0.1996 - accuracy: 0.9467\n"
          ],
          "name": "stdout"
        },
        {
          "output_type": "execute_result",
          "data": {
            "text/plain": [
              "[0.199570432305336, 0.9466833472251892]"
            ]
          },
          "metadata": {
            "tags": []
          },
          "execution_count": 85
        }
      ]
    },
    {
      "cell_type": "markdown",
      "metadata": {
        "id": "bZ183L-tIwkt"
      },
      "source": [
        "The validation set loss is 0.1996 and accuracy is 94.67%."
      ]
    },
    {
      "cell_type": "code",
      "metadata": {
        "id": "EDcJUvzE3_YX",
        "outputId": "14386e8f-60a8-436c-fe33-64e049b03f7d",
        "colab": {
          "base_uri": "https://localhost:8080/"
        }
      },
      "source": [
        "#Evaluating model on test data\n",
        "model.evaluate(X_test,y_test)"
      ],
      "execution_count": 86,
      "outputs": [
        {
          "output_type": "stream",
          "text": [
            "563/563 [==============================] - 2s 4ms/step - loss: 0.4868 - accuracy: 0.8710\n"
          ],
          "name": "stdout"
        },
        {
          "output_type": "execute_result",
          "data": {
            "text/plain": [
              "[0.48683464527130127, 0.8709999918937683]"
            ]
          },
          "metadata": {
            "tags": []
          },
          "execution_count": 86
        }
      ]
    },
    {
      "cell_type": "markdown",
      "metadata": {
        "id": "-eZPNedoIjz6"
      },
      "source": [
        "The production loss ( test set) is 0.4868 and accuracy is 87.1%. "
      ]
    },
    {
      "cell_type": "code",
      "metadata": {
        "id": "CblWj_KS6Mys",
        "outputId": "3ab1aa1e-108b-4518-8ea5-fe84bf24e7c0",
        "colab": {
          "base_uri": "https://localhost:8080/"
        }
      },
      "source": [
        "model.predict(X_test), model.predict(X_val)"
      ],
      "execution_count": 87,
      "outputs": [
        {
          "output_type": "execute_result",
          "data": {
            "text/plain": [
              "(array([[8.8690557e-02, 8.0177850e-01, 1.4979437e-03, ..., 3.1170915e-04,\n",
              "         1.1445540e-02, 3.0656431e-03],\n",
              "        [1.5577858e-06, 2.7386625e-06, 3.0441474e-02, ..., 9.6942061e-01,\n",
              "         2.0197993e-07, 2.2742624e-06],\n",
              "        [9.1802980e-07, 7.1816976e-06, 9.9997258e-01, ..., 1.5390683e-06,\n",
              "         1.0393655e-06, 2.3745515e-07],\n",
              "        ...,\n",
              "        [1.5604428e-08, 7.4110153e-06, 1.3278066e-07, ..., 9.9998546e-01,\n",
              "         1.8690303e-09, 8.6406549e-10],\n",
              "        [5.3288965e-03, 7.9648351e-05, 1.3004376e-04, ..., 6.8437727e-03,\n",
              "         1.0622744e-02, 9.3421865e-01],\n",
              "        [3.4373694e-05, 3.2690121e-05, 9.9961877e-01, ..., 9.4186880e-06,\n",
              "         5.7728685e-06, 4.6853103e-07]], dtype=float32),\n",
              " array([[9.9996281e-01, 1.3689197e-06, 3.2316476e-07, ..., 4.4191170e-06,\n",
              "         5.1881392e-07, 1.7785549e-05],\n",
              "        [9.9989879e-01, 7.9273690e-07, 1.2564643e-06, ..., 5.2338881e-05,\n",
              "         1.2995331e-07, 3.0795185e-05],\n",
              "        [9.9993742e-01, 1.0634298e-05, 7.1243727e-07, ..., 1.1365650e-05,\n",
              "         2.5914667e-06, 1.5286556e-05],\n",
              "        ...,\n",
              "        [1.2053772e-03, 9.4641913e-03, 2.1558822e-04, ..., 2.3760299e-04,\n",
              "         7.5911414e-03, 9.7932947e-01],\n",
              "        [1.6134925e-05, 5.6486466e-10, 3.7595210e-06, ..., 1.5143437e-08,\n",
              "         4.7236266e-05, 9.9992037e-01],\n",
              "        [1.3806833e-06, 3.4816598e-08, 4.1061224e-07, ..., 6.1077010e-10,\n",
              "         1.2035199e-06, 9.9998891e-01]], dtype=float32))"
            ]
          },
          "metadata": {
            "tags": []
          },
          "execution_count": 87
        }
      ]
    },
    {
      "cell_type": "markdown",
      "metadata": {
        "id": "WZGgKkF37ZhL"
      },
      "source": [
        "In the above demo, we treated X_train as the training set and X_val as the validation and X_test was used as the production data/unseen data and we were able to build a dense neural network that performed decently on unseen data although the accuracy for production data was lower than validation data. "
      ]
    },
    {
      "cell_type": "markdown",
      "metadata": {
        "id": "3o38O4Y9JV8f"
      },
      "source": [
        "The training and validation loss seem to tread closely which suggests the model learnt well. Although in case of production data, the model didn't perform at the same level. More layers could be added, parameters finetuned and tried with different variants so that it gives better results in the future. "
      ]
    }
  ]
}